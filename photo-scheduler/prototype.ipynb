{
 "cells": [
  {
   "cell_type": "code",
   "execution_count": 1,
   "metadata": {},
   "outputs": [],
   "source": [
    "import requests\n",
    "import os\n",
    "import json\n",
    "from camera import Camera"
   ]
  },
  {
   "cell_type": "code",
   "execution_count": 2,
   "metadata": {},
   "outputs": [
    {
     "name": "stderr",
     "output_type": "stream",
     "text": [
      "/Users/curtishzl/anaconda3/lib/python3.11/site-packages/urllib3/connectionpool.py:1061: InsecureRequestWarning: Unverified HTTPS request is being made to host '192.168.1.148'. Adding certificate verification is strongly advised. See: https://urllib3.readthedocs.io/en/1.26.x/advanced-usage.html#ssl-warnings\n",
      "  warnings.warn(\n"
     ]
    }
   ],
   "source": [
    "# constants just for the prototype...\n",
    "ip = \"192.168.1.148\"\n",
    "username = \"admin\"\n",
    "password = \"627rocks\"\n",
    "camera = Camera(ip, username, password)"
   ]
  },
  {
   "cell_type": "code",
   "execution_count": 3,
   "metadata": {},
   "outputs": [
    {
     "name": "stderr",
     "output_type": "stream",
     "text": [
      "/Users/curtishzl/anaconda3/lib/python3.11/site-packages/urllib3/connectionpool.py:1061: InsecureRequestWarning: Unverified HTTPS request is being made to host '192.168.1.148'. Adding certificate verification is strongly advised. See: https://urllib3.readthedocs.io/en/1.26.x/advanced-usage.html#ssl-warnings\n",
      "  warnings.warn(\n",
      "/Users/curtishzl/anaconda3/lib/python3.11/site-packages/urllib3/connectionpool.py:1061: InsecureRequestWarning: Unverified HTTPS request is being made to host '192.168.1.148'. Adding certificate verification is strongly advised. See: https://urllib3.readthedocs.io/en/1.26.x/advanced-usage.html#ssl-warnings\n",
      "  warnings.warn(\n",
      "/Users/curtishzl/anaconda3/lib/python3.11/site-packages/urllib3/connectionpool.py:1061: InsecureRequestWarning: Unverified HTTPS request is being made to host '192.168.1.148'. Adding certificate verification is strongly advised. See: https://urllib3.readthedocs.io/en/1.26.x/advanced-usage.html#ssl-warnings\n",
      "  warnings.warn(\n"
     ]
    }
   ],
   "source": [
    "# camera.login()\n",
    "camera.take_photo(channel=2)\n",
    "camera.take_photo(channel=3)\n",
    "camera.logout()"
   ]
  },
  {
   "cell_type": "markdown",
   "metadata": {},
   "source": [
    "# Test config.yaml"
   ]
  },
  {
   "cell_type": "code",
   "execution_count": 14,
   "metadata": {},
   "outputs": [
    {
     "data": {
      "text/plain": [
       "{'username': 'admin',\n",
       " 'password': '627rocks',\n",
       " 'ip': '192.168.1.148',\n",
       " 'savePath': 'public/photos',\n",
       " 'captureTimes': [],\n",
       " 'captureInterval': '0d 1h 0m 0s',\n",
       " 'cameras': [{'channel': 0, 'label': 'camera0'},\n",
       "  {'channel': 1, 'label': 'camera1'},\n",
       "  {'channel': 2, 'label': 'camera2'},\n",
       "  {'channel': 3, 'label': 'camera3'},\n",
       "  {'channel': 4, 'label': 'camera4'},\n",
       "  {'channel': 5, 'label': 'camera5'},\n",
       "  {'channel': 6, 'label': 'camera6'},\n",
       "  {'channel': 7, 'label': 'camera7'},\n",
       "  {'channel': 8, 'label': 'camera8'},\n",
       "  {'channel': 9, 'label': 'camera9'},\n",
       "  {'channel': 10, 'label': 'camera10'},\n",
       "  {'channel': 11, 'label': 'camera11'},\n",
       "  {'channel': 12, 'label': 'camera12'},\n",
       "  {'channel': 13, 'label': 'camera13'},\n",
       "  {'channel': 14, 'label': 'camera14'},\n",
       "  {'channel': 15, 'label': 'camera15'}]}"
      ]
     },
     "execution_count": 14,
     "metadata": {},
     "output_type": "execute_result"
    }
   ],
   "source": [
    "import yaml\n",
    "\n",
    "def parse_config():\n",
    "    with open('config.yaml', 'r') as file:\n",
    "        config = yaml.safe_load(file)\n",
    "    return config\n",
    "\n",
    "config = parse_config()\n",
    "config"
   ]
  },
  {
   "cell_type": "code",
   "execution_count": 15,
   "metadata": {},
   "outputs": [
    {
     "data": {
      "text/plain": [
       "[{'channel': 0, 'label': 'camera0'},\n",
       " {'channel': 1, 'label': 'camera1'},\n",
       " {'channel': 2, 'label': 'camera2'},\n",
       " {'channel': 3, 'label': 'camera3'},\n",
       " {'channel': 4, 'label': 'camera4'},\n",
       " {'channel': 5, 'label': 'camera5'},\n",
       " {'channel': 6, 'label': 'camera6'},\n",
       " {'channel': 7, 'label': 'camera7'},\n",
       " {'channel': 8, 'label': 'camera8'},\n",
       " {'channel': 9, 'label': 'camera9'},\n",
       " {'channel': 10, 'label': 'camera10'},\n",
       " {'channel': 11, 'label': 'camera11'},\n",
       " {'channel': 12, 'label': 'camera12'},\n",
       " {'channel': 13, 'label': 'camera13'},\n",
       " {'channel': 14, 'label': 'camera14'},\n",
       " {'channel': 15, 'label': 'camera15'}]"
      ]
     },
     "execution_count": 15,
     "metadata": {},
     "output_type": "execute_result"
    }
   ],
   "source": [
    "cameras = config[\"cameras\"]\n",
    "cameras"
   ]
  },
  {
   "cell_type": "code",
   "execution_count": 17,
   "metadata": {},
   "outputs": [
    {
     "name": "stdout",
     "output_type": "stream",
     "text": [
      "0\n",
      "1\n",
      "2\n",
      "3\n",
      "4\n",
      "5\n",
      "6\n",
      "7\n",
      "8\n",
      "9\n",
      "10\n",
      "11\n",
      "12\n",
      "13\n",
      "14\n",
      "15\n"
     ]
    }
   ],
   "source": [
    "for camera in cameras:\n",
    "    print(camera[\"channel\"])"
   ]
  }
 ],
 "metadata": {
  "kernelspec": {
   "display_name": "base",
   "language": "python",
   "name": "python3"
  },
  "language_info": {
   "codemirror_mode": {
    "name": "ipython",
    "version": 3
   },
   "file_extension": ".py",
   "mimetype": "text/x-python",
   "name": "python",
   "nbconvert_exporter": "python",
   "pygments_lexer": "ipython3",
   "version": "3.11.5"
  }
 },
 "nbformat": 4,
 "nbformat_minor": 2
}
